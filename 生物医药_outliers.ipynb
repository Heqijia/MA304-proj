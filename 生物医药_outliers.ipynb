{
 "cells": [
  {
   "cell_type": "code",
   "execution_count": 1,
   "metadata": {},
   "outputs": [],
   "source": [
    "import pandas as pd\n",
    "import numpy as np\n",
    "import matplotlib.pyplot as plt\n",
    "import seaborn as sns\n",
    "from sklearn.cluster import KMeans\n",
    "from sklearn.preprocessing import StandardScaler\n",
    "from sklearn.metrics import silhouette_score\n",
    "from factor_analyzer import FactorAnalyzer\n",
    "from sklearn.linear_model import LinearRegression\n",
    "from tqdm import tqdm"
   ]
  },
  {
   "cell_type": "markdown",
   "metadata": {},
   "source": [
    "## Outlier Exploration"
   ]
  },
  {
   "cell_type": "code",
   "execution_count": 1,
   "metadata": {},
   "outputs": [],
   "source": [
    "import pandas as pd\n",
    "import numpy as np\n",
    "import matplotlib.pyplot as plt\n",
    "import seaborn as sns\n",
    "from sklearn.cluster import KMeans\n",
    "from sklearn.preprocessing import StandardScaler\n",
    "from sklearn.metrics import silhouette_score\n",
    "from factor_analyzer import FactorAnalyzer\n",
    "from sklearn.linear_model import LinearRegression\n",
    "from tqdm import tqdm\n",
    "\n",
    "df1=pd.read_csv('data/stock_profit.csv')[['code','npMargin','netProfit','MBRevenue','epsTTM','totalShare','liqaShare']]\n",
    "df2=pd.read_csv('data/stock_growth.csv')[['code','YOYEquity','YOYEPSBasic','YOYNI']]\n",
    "df3=pd.read_csv('data/stock_balance.csv')[['code','liabilityToAsset','currentRatio','assetToEquity','YOYLiability']]\n",
    "df4=pd.read_csv('data/stock_dupont.csv')[['code','dupontAssetTurn']]\n",
    "df5=pd.read_csv('data/stock_industry.csv', encoding='GBK')[['code','code_name','industry']]\n",
    "df6=pd.read_csv('data/stock_k_data(2024_01_02).csv')[['code','open','volume']]\n",
    "\n",
    "df=pd.merge(df1,df2,on='code')\n",
    "df=pd.merge(df,df3,on='code')\n",
    "df=pd.merge(df,df4,on='code')\n",
    "df=pd.merge(df,df5,on='code')\n",
    "df=pd.merge(df,df6,on='code')\n",
    "df=df[df['industry']=='医药生物']\n",
    "df7=pd.read_csv('data/stock_k_data(2023_09_01).csv')[['code','open','volume']]\n",
    "df7.rename(columns={\n",
    "    'open': 'open_91',\n",
    "    'volume': 'volume_91'\n",
    "}, inplace=True)\n",
    "df=pd.merge(df,df7,on='code')\n",
    "df['open_dif']=df['open']-df['open_91']\n",
    "df['volume_dif']=df['volume']-df['volume_91']\n",
    "df=df.dropna().reset_index(drop=True)"
   ]
  },
  {
   "cell_type": "code",
   "execution_count": 2,
   "metadata": {},
   "outputs": [],
   "source": [
    "columns_outliers=['npMargin', 'netProfit', 'epsTTM', 'totalShare','liqaShare','YOYEquity','MBRevenue','YOYNI',\n",
    "       'YOYEPSBasic', 'liabilityToAsset', 'currentRatio', 'assetToEquity',\n",
    "       'YOYLiability', 'dupontAssetTurn','open_dif','volume_dif']\n",
    "X_ = df[columns_outliers]\n",
    "scaler = StandardScaler()\n",
    "X_ = pd.DataFrame(scaler.fit_transform(X_),columns = X_.columns)"
   ]
  },
  {
   "cell_type": "code",
   "execution_count": 3,
   "metadata": {},
   "outputs": [],
   "source": [
    "def remove_outliers(series):\n",
    "    mean = series.mean()\n",
    "    std = series.std()\n",
    "    threshold = 3  # 可调整阈值\n",
    "    return abs(series - mean) <= threshold * std\n",
    "outliers=X_[-X_.apply(remove_outliers).all(axis=1)]"
   ]
  },
  {
   "cell_type": "code",
   "execution_count": 4,
   "metadata": {},
   "outputs": [
    {
     "data": {
      "text/html": [
       "<div>\n",
       "<style scoped>\n",
       "    .dataframe tbody tr th:only-of-type {\n",
       "        vertical-align: middle;\n",
       "    }\n",
       "\n",
       "    .dataframe tbody tr th {\n",
       "        vertical-align: top;\n",
       "    }\n",
       "\n",
       "    .dataframe thead th {\n",
       "        text-align: right;\n",
       "    }\n",
       "</style>\n",
       "<table border=\"1\" class=\"dataframe\">\n",
       "  <thead>\n",
       "    <tr style=\"text-align: right;\">\n",
       "      <th></th>\n",
       "      <th>npMargin</th>\n",
       "      <th>netProfit</th>\n",
       "      <th>epsTTM</th>\n",
       "      <th>totalShare</th>\n",
       "      <th>liqaShare</th>\n",
       "      <th>YOYEquity</th>\n",
       "      <th>MBRevenue</th>\n",
       "      <th>YOYNI</th>\n",
       "      <th>YOYEPSBasic</th>\n",
       "      <th>liabilityToAsset</th>\n",
       "      <th>currentRatio</th>\n",
       "      <th>assetToEquity</th>\n",
       "      <th>YOYLiability</th>\n",
       "      <th>dupontAssetTurn</th>\n",
       "      <th>open_dif</th>\n",
       "      <th>volume_dif</th>\n",
       "    </tr>\n",
       "  </thead>\n",
       "  <tbody>\n",
       "    <tr>\n",
       "      <th>16</th>\n",
       "      <td>0.036748</td>\n",
       "      <td>-0.346408</td>\n",
       "      <td>-0.335166</td>\n",
       "      <td>-0.489073</td>\n",
       "      <td>-0.509475</td>\n",
       "      <td>-0.068775</td>\n",
       "      <td>-0.295441</td>\n",
       "      <td>0.078214</td>\n",
       "      <td>0.072272</td>\n",
       "      <td>1.202688</td>\n",
       "      <td>-0.559520</td>\n",
       "      <td>0.663216</td>\n",
       "      <td>0.235516</td>\n",
       "      <td>0.673860</td>\n",
       "      <td>-0.562178</td>\n",
       "      <td>-3.013017</td>\n",
       "    </tr>\n",
       "    <tr>\n",
       "      <th>17</th>\n",
       "      <td>0.328814</td>\n",
       "      <td>3.240750</td>\n",
       "      <td>0.025474</td>\n",
       "      <td>5.030561</td>\n",
       "      <td>5.358799</td>\n",
       "      <td>-0.044410</td>\n",
       "      <td>0.901473</td>\n",
       "      <td>0.083085</td>\n",
       "      <td>0.100330</td>\n",
       "      <td>-1.419329</td>\n",
       "      <td>2.130228</td>\n",
       "      <td>-0.741625</td>\n",
       "      <td>-1.098362</td>\n",
       "      <td>0.077647</td>\n",
       "      <td>0.229843</td>\n",
       "      <td>-0.036696</td>\n",
       "    </tr>\n",
       "    <tr>\n",
       "      <th>20</th>\n",
       "      <td>0.061399</td>\n",
       "      <td>3.225093</td>\n",
       "      <td>1.305673</td>\n",
       "      <td>0.754815</td>\n",
       "      <td>0.667060</td>\n",
       "      <td>-0.023307</td>\n",
       "      <td>3.848449</td>\n",
       "      <td>0.077136</td>\n",
       "      <td>0.077783</td>\n",
       "      <td>1.153222</td>\n",
       "      <td>-0.515798</td>\n",
       "      <td>0.609997</td>\n",
       "      <td>-0.116255</td>\n",
       "      <td>1.433981</td>\n",
       "      <td>-0.341451</td>\n",
       "      <td>0.098860</td>\n",
       "    </tr>\n",
       "    <tr>\n",
       "      <th>25</th>\n",
       "      <td>0.524686</td>\n",
       "      <td>2.032831</td>\n",
       "      <td>2.812290</td>\n",
       "      <td>-0.164950</td>\n",
       "      <td>-0.090836</td>\n",
       "      <td>0.077621</td>\n",
       "      <td>0.213946</td>\n",
       "      <td>0.083522</td>\n",
       "      <td>0.104475</td>\n",
       "      <td>-0.751304</td>\n",
       "      <td>0.396706</td>\n",
       "      <td>-0.540632</td>\n",
       "      <td>0.230481</td>\n",
       "      <td>0.390447</td>\n",
       "      <td>-3.551484</td>\n",
       "      <td>-0.114444</td>\n",
       "    </tr>\n",
       "    <tr>\n",
       "      <th>28</th>\n",
       "      <td>0.042161</td>\n",
       "      <td>1.595387</td>\n",
       "      <td>1.551615</td>\n",
       "      <td>-0.028951</td>\n",
       "      <td>-0.138025</td>\n",
       "      <td>-0.000379</td>\n",
       "      <td>2.417637</td>\n",
       "      <td>0.081864</td>\n",
       "      <td>0.094927</td>\n",
       "      <td>0.751057</td>\n",
       "      <td>-0.394631</td>\n",
       "      <td>0.243468</td>\n",
       "      <td>0.075250</td>\n",
       "      <td>3.267504</td>\n",
       "      <td>-0.513238</td>\n",
       "      <td>-0.002253</td>\n",
       "    </tr>\n",
       "  </tbody>\n",
       "</table>\n",
       "</div>"
      ],
      "text/plain": [
       "    npMargin  netProfit    epsTTM  totalShare  liqaShare  YOYEquity  \\\n",
       "16  0.036748  -0.346408 -0.335166   -0.489073  -0.509475  -0.068775   \n",
       "17  0.328814   3.240750  0.025474    5.030561   5.358799  -0.044410   \n",
       "20  0.061399   3.225093  1.305673    0.754815   0.667060  -0.023307   \n",
       "25  0.524686   2.032831  2.812290   -0.164950  -0.090836   0.077621   \n",
       "28  0.042161   1.595387  1.551615   -0.028951  -0.138025  -0.000379   \n",
       "\n",
       "    MBRevenue     YOYNI  YOYEPSBasic  liabilityToAsset  currentRatio  \\\n",
       "16  -0.295441  0.078214     0.072272          1.202688     -0.559520   \n",
       "17   0.901473  0.083085     0.100330         -1.419329      2.130228   \n",
       "20   3.848449  0.077136     0.077783          1.153222     -0.515798   \n",
       "25   0.213946  0.083522     0.104475         -0.751304      0.396706   \n",
       "28   2.417637  0.081864     0.094927          0.751057     -0.394631   \n",
       "\n",
       "    assetToEquity  YOYLiability  dupontAssetTurn  open_dif  volume_dif  \n",
       "16       0.663216      0.235516         0.673860 -0.562178   -3.013017  \n",
       "17      -0.741625     -1.098362         0.077647  0.229843   -0.036696  \n",
       "20       0.609997     -0.116255         1.433981 -0.341451    0.098860  \n",
       "25      -0.540632      0.230481         0.390447 -3.551484   -0.114444  \n",
       "28       0.243468      0.075250         3.267504 -0.513238   -0.002253  "
      ]
     },
     "execution_count": 4,
     "metadata": {},
     "output_type": "execute_result"
    }
   ],
   "source": [
    "outliers.head()"
   ]
  },
  {
   "cell_type": "code",
   "execution_count": 5,
   "metadata": {},
   "outputs": [
    {
     "name": "stderr",
     "output_type": "stream",
     "text": [
      "d:\\Anaconda\\lib\\site-packages\\sklearn\\cluster\\_kmeans.py:1037: UserWarning: KMeans is known to have a memory leak on Windows with MKL, when there are less chunks than available threads. You can avoid it by setting the environment variable OMP_NUM_THREADS=1.\n",
      "  \"KMeans is known to have a memory leak on Windows \"\n"
     ]
    },
    {
     "data": {
      "image/png": "[encoded data removed]",
      "text/plain": [
       "<Figure size 576x288 with 1 Axes>"
      ]
     },
     "metadata": {
      "needs_background": "light"
     },
     "output_type": "display_data"
    }
   ],
   "source": [
    "# 使用肘部法则选择适当的聚类数目\n",
    "inertia = []\n",
    "K = range(1, 10)\n",
    "for k in K:\n",
    "    kmeans = KMeans(n_clusters=k, random_state=0).fit(outliers)\n",
    "    inertia.append(kmeans.inertia_)\n",
    "\n",
    "# 绘制肘部法则图\n",
    "plt.figure(figsize=(8, 4))\n",
    "plt.plot(K, inertia, 'bx-')\n",
    "plt.xlabel('Number of clusters (k)')\n",
    "plt.ylabel('Inertia')\n",
    "plt.title('Elbow Method for Optimal k')\n",
    "plt.show()"
   ]
  },
  {
   "cell_type": "code",
   "execution_count": 6,
   "metadata": {},
   "outputs": [
    {
     "name": "stderr",
     "output_type": "stream",
     "text": [
      "d:\\Anaconda\\lib\\site-packages\\ipykernel_launcher.py:2: SettingWithCopyWarning: \n",
      "A value is trying to be set on a copy of a slice from a DataFrame.\n",
      "Try using .loc[row_indexer,col_indexer] = value instead\n",
      "\n",
      "See the caveats in the documentation: https://pandas.pydata.org/pandas-docs/stable/user_guide/indexing.html#returning-a-view-versus-a-copy\n",
      "  \n"
     ]
    }
   ],
   "source": [
    "kmeans = KMeans(n_clusters=4, random_state=0).fit(outliers)\n",
    "outliers['Cluster'] = kmeans.labels_"
   ]
  },
  {
   "cell_type": "code",
   "execution_count": 35,
   "metadata": {},
   "outputs": [
    {
     "data": {
      "text/plain": [
       "57"
      ]
     },
     "execution_count": 35,
     "metadata": {},
     "output_type": "execute_result"
    }
   ],
   "source": [
    "len(outliers)"
   ]
  },
  {
   "cell_type": "code",
   "execution_count": 7,
   "metadata": {},
   "outputs": [
    {
     "name": "stderr",
     "output_type": "stream",
     "text": [
      "d:\\Anaconda\\lib\\site-packages\\ipykernel_launcher.py:10: SettingWithCopyWarning: \n",
      "A value is trying to be set on a copy of a slice from a DataFrame.\n",
      "Try using .loc[row_indexer,col_indexer] = value instead\n",
      "\n",
      "See the caveats in the documentation: https://pandas.pydata.org/pandas-docs/stable/user_guide/indexing.html#returning-a-view-versus-a-copy\n",
      "  # Remove the CWD from sys.path while we load stuff.\n",
      "d:\\Anaconda\\lib\\site-packages\\ipykernel_launcher.py:11: SettingWithCopyWarning: \n",
      "A value is trying to be set on a copy of a slice from a DataFrame.\n",
      "Try using .loc[row_indexer,col_indexer] = value instead\n",
      "\n",
      "See the caveats in the documentation: https://pandas.pydata.org/pandas-docs/stable/user_guide/indexing.html#returning-a-view-versus-a-copy\n",
      "  # This is added back by InteractiveShellApp.init_path()\n",
      "d:\\Anaconda\\lib\\site-packages\\ipykernel_launcher.py:12: SettingWithCopyWarning: \n",
      "A value is trying to be set on a copy of a slice from a DataFrame.\n",
      "Try using .loc[row_indexer,col_indexer] = value instead\n",
      "\n",
      "See the caveats in the documentation: https://pandas.pydata.org/pandas-docs/stable/user_guide/indexing.html#returning-a-view-versus-a-copy\n",
      "  if sys.path[0] == '':\n",
      "d:\\Anaconda\\lib\\site-packages\\ipykernel_launcher.py:13: SettingWithCopyWarning: \n",
      "A value is trying to be set on a copy of a slice from a DataFrame.\n",
      "Try using .loc[row_indexer,col_indexer] = value instead\n",
      "\n",
      "See the caveats in the documentation: https://pandas.pydata.org/pandas-docs/stable/user_guide/indexing.html#returning-a-view-versus-a-copy\n",
      "  del sys.path[0]\n"
     ]
    },
    {
     "data": {
      "image/png": "[encoded data removed]",
      "text/plain": [
       "<Figure size 1080x1296 with 6 Axes>"
      ]
     },
     "metadata": {
      "needs_background": "light"
     },
     "output_type": "display_data"
    }
   ],
   "source": [
    "import matplotlib.pyplot as plt\n",
    "import seaborn as sns\n",
    "from itertools import combinations\n",
    "from sklearn.decomposition import PCA\n",
    "# 假设 scaled_outlier 已经存在且已预处理\n",
    "\n",
    "# 执行PCA生成4个组件\n",
    "pca = PCA(n_components=4)\n",
    "pca_data = pca.fit_transform(outliers.drop(columns=['Cluster']))\n",
    "outliers['PCA1'] = pca_data[:, 0]\n",
    "outliers['PCA2'] = pca_data[:, 1]\n",
    "outliers['PCA3'] = pca_data[:, 2]\n",
    "outliers['PCA4'] = pca_data[:, 3]\n",
    "\n",
    "# 生成所有两两组合的图\n",
    "combinations_of_pca = list(combinations(['PCA1', 'PCA2', 'PCA3','PCA4'], 2))\n",
    "\n",
    "# 设置绘图的子图网格大小\n",
    "fig, axes = plt.subplots(3, 2, figsize=(15, 18))\n",
    "\n",
    "# 遍历所有组合并绘制子图\n",
    "for (ax, (pca_x, pca_y)) in zip(axes.flatten(), combinations_of_pca):\n",
    "    sns.scatterplot(data=outliers, x=pca_x, y=pca_y, hue='Cluster', palette='viridis', s=100, ax=ax)\n",
    "    ax.set_title(f'Clusters Visualization using {pca_x} and {pca_y}')\n",
    "\n",
    "# 调整子图布局\n",
    "plt.tight_layout()\n",
    "plt.show()"
   ]
  },
  {
   "cell_type": "code",
   "execution_count": 8,
   "metadata": {},
   "outputs": [
    {
     "name": "stdout",
     "output_type": "stream",
     "text": [
      "PCA1 components:\n",
      " [-0.42946811 -0.43925783 -0.34560844 -0.29307672 -0.2815113   0.05200128\n",
      " -0.27515381 -0.27428228 -0.26884348  0.08867441 -0.02454434  0.18275122\n",
      " -0.03555828 -0.16042832  0.06625504 -0.19709296]\n",
      "PCA2 components:\n",
      " [-0.2342781  -0.02882952 -0.32261699  0.44774381  0.43655256 -0.08744398\n",
      "  0.29066042 -0.10017352 -0.16309549  0.2471794  -0.31007086  0.29622238\n",
      " -0.13922447  0.13826587  0.10928052  0.15795892]\n",
      "PCA3 components:\n",
      " [ 0.13610861  0.00797576  0.01383278  0.21293232  0.22507239 -0.15523412\n",
      " -0.23685868 -0.49901099 -0.40568967 -0.26999455  0.2040431  -0.33264958\n",
      " -0.03105914 -0.26191033 -0.05350656  0.30629228]\n",
      "PCA4 components:\n",
      " [ 0.15910753  0.2659815   0.26237808 -0.25833285 -0.28592963 -0.12634841\n",
      "  0.38138506 -0.43409689 -0.39163523  0.11457918 -0.20593896  0.05821324\n",
      " -0.09465749  0.30799568 -0.01683341 -0.14260172]\n"
     ]
    }
   ],
   "source": [
    "components = pca.components_\n",
    "\n",
    "# 打印PCA1和PCA2的成分\n",
    "print(\"PCA1 components:\\n\", components[0])\n",
    "print(\"PCA2 components:\\n\", components[1])\n",
    "print(\"PCA3 components:\\n\", components[2])\n",
    "print(\"PCA4 components:\\n\", components[3])"
   ]
  },
  {
   "cell_type": "code",
   "execution_count": 9,
   "metadata": {},
   "outputs": [
    {
     "name": "stdout",
     "output_type": "stream",
     "text": [
      "[0, 1, 2] [-0.4294681134489551, -0.43925782727971474, -0.3456084376425014]\n",
      "  Selected \"Columns\n",
      "0          npMargin\n",
      "1         netProfit\n",
      "2            epsTTM\n",
      "[2, 3, 4, 10] [-0.32261698724578625, 0.44774381291941734, 0.43655256303688944, -0.3100708592294288]\n",
      "  Selected \"Columns\n",
      "0            epsTTM\n",
      "1        totalShare\n",
      "2         liqaShare\n",
      "3      currentRatio\n",
      "[7, 8, 11, 15] [-0.49901099458994785, -0.4056896695943279, -0.33264958419545726, 0.30629227853258356]\n",
      "  Selected \"Columns\n",
      "0             YOYNI\n",
      "1       YOYEPSBasic\n",
      "2     assetToEquity\n",
      "3        volume_dif\n",
      "[6, 7, 8, 13] [0.38138505779012455, -0.43409688863034074, -0.39163523248421206, 0.307995684732827]\n",
      "  Selected \"Columns\n",
      "0         MBRevenue\n",
      "1             YOYNI\n",
      "2       YOYEPSBasic\n",
      "3   dupontAssetTurn\n"
     ]
    }
   ],
   "source": [
    "for j in range(4):\n",
    "    indices = [i for i, x in enumerate(components[j]) if abs(x) > 0.3]\n",
    "    weight=[x for i, x in enumerate(components[j]) if abs(x) > 0.3]\n",
    "    print(indices,weight)\n",
    "    selected_columns = outliers.columns[indices]\n",
    "    result_table = pd.DataFrame({'Selected \"Columns': selected_columns})\n",
    "    print(result_table)"
   ]
  },
  {
   "cell_type": "markdown",
   "metadata": {},
   "source": [
    "PCA1：销售净利率(-)、净利润(-)、每股收益(-) \\\n",
    "PCA2：每股收益(-)、总股本(-)、 流通股本(+)、流动比率(-)\\\n",
    "PCA3：净利润同比增长率(-)、基本每股收益同比增长率(-)、权益乘数(-)、成交量上升(+)   \\\n",
    "PCA4: 主营营业收入(+)、净利润同比增长率(-)、基本每股收益同比增长率(-)、总资产周转率(+) \n"
   ]
  },
  {
   "cell_type": "code",
   "execution_count": 10,
   "metadata": {},
   "outputs": [
    {
     "name": "stdout",
     "output_type": "stream",
     "text": [
      "主成分1: 解释方差 = 14.0170, 解释方差比例 = 0.1811\n",
      "主成分2: 解释方差 = 10.9420, 解释方差比例 = 0.1414\n",
      "主成分3: 解释方差 = 10.2204, 解释方差比例 = 0.1321\n",
      "主成分4: 解释方差 = 8.4928, 解释方差比例 = 0.1097\n"
     ]
    }
   ],
   "source": [
    "# 获取解释方差\n",
    "explained_variance = pca.explained_variance_\n",
    "\n",
    "# 获取解释方差比例\n",
    "explained_variance_ratio = pca.explained_variance_ratio_\n",
    "\n",
    "# 输出结果\n",
    "for i, (var, ratio) in enumerate(zip(explained_variance, explained_variance_ratio), start=1):\n",
    "    print(f\"主成分{i}: 解释方差 = {var:.4f}, 解释方差比例 = {ratio:.4f}\")"
   ]
  },
  {
   "cell_type": "code",
   "execution_count": 14,
   "metadata": {},
   "outputs": [],
   "source": [
    "df8=pd.read_csv('data/stock_k_data(2024_04_01).csv')[['code','open','volume']]\n",
    "df8.rename(columns={\n",
    "    'open': 'open_41',\n",
    "    'volume': 'volume_41'\n",
    "}, inplace=True)\n",
    "selected_result=pd.merge(df,df8,on='code')\n",
    "selected_result['open_diff_4_1']=selected_result['open_41']-selected_result['open']"
   ]
  },
  {
   "cell_type": "code",
   "execution_count": 12,
   "metadata": {},
   "outputs": [],
   "source": [
    "big_company_index=outliers[(outliers['PCA1']>10)].index"
   ]
  },
  {
   "cell_type": "code",
   "execution_count": 13,
   "metadata": {},
   "outputs": [
    {
     "data": {
      "text/html": [
       "<div>\n",
       "<style scoped>\n",
       "    .dataframe tbody tr th:only-of-type {\n",
       "        vertical-align: middle;\n",
       "    }\n",
       "\n",
       "    .dataframe tbody tr th {\n",
       "        vertical-align: top;\n",
       "    }\n",
       "\n",
       "    .dataframe thead th {\n",
       "        text-align: right;\n",
       "    }\n",
       "</style>\n",
       "<table border=\"1\" class=\"dataframe\">\n",
       "  <thead>\n",
       "    <tr style=\"text-align: right;\">\n",
       "      <th></th>\n",
       "      <th>code_name</th>\n",
       "      <th>open_diff_4_1</th>\n",
       "    </tr>\n",
       "  </thead>\n",
       "  <tbody>\n",
       "    <tr>\n",
       "      <th>251</th>\n",
       "      <td>*ST太安</td>\n",
       "      <td>-1.31</td>\n",
       "    </tr>\n",
       "  </tbody>\n",
       "</table>\n",
       "</div>"
      ],
      "text/plain": [
       "    code_name  open_diff_4_1\n",
       "251     *ST太安          -1.31"
      ]
     },
     "execution_count": 13,
     "metadata": {},
     "output_type": "execute_result"
    }
   ],
   "source": [
    "selected_result.loc[big_company_index][['code_name','open_diff_4_1']]"
   ]
  },
  {
   "cell_type": "code",
   "execution_count": 31,
   "metadata": {},
   "outputs": [],
   "source": [
    "potential_company_index=outliers[(outliers['PCA1']<0.5)&(outliers['PCA2']<0)&(outliers['PCA3']<0)&(outliers['PCA4']>0)].index"
   ]
  },
  {
   "cell_type": "code",
   "execution_count": 32,
   "metadata": {},
   "outputs": [
    {
     "data": {
      "text/html": [
       "<div>\n",
       "<style scoped>\n",
       "    .dataframe tbody tr th:only-of-type {\n",
       "        vertical-align: middle;\n",
       "    }\n",
       "\n",
       "    .dataframe tbody tr th {\n",
       "        vertical-align: top;\n",
       "    }\n",
       "\n",
       "    .dataframe thead th {\n",
       "        text-align: right;\n",
       "    }\n",
       "</style>\n",
       "<table border=\"1\" class=\"dataframe\">\n",
       "  <thead>\n",
       "    <tr style=\"text-align: right;\">\n",
       "      <th></th>\n",
       "      <th>code_name</th>\n",
       "      <th>open_diff_4_1</th>\n",
       "    </tr>\n",
       "  </thead>\n",
       "  <tbody>\n",
       "    <tr>\n",
       "      <th>28</th>\n",
       "      <td>国药股份</td>\n",
       "      <td>4.50</td>\n",
       "    </tr>\n",
       "    <tr>\n",
       "      <th>142</th>\n",
       "      <td>奕瑞科技</td>\n",
       "      <td>-105.43</td>\n",
       "    </tr>\n",
       "    <tr>\n",
       "      <th>169</th>\n",
       "      <td>惠泰医疗</td>\n",
       "      <td>40.81</td>\n",
       "    </tr>\n",
       "    <tr>\n",
       "      <th>372</th>\n",
       "      <td>迈瑞医疗</td>\n",
       "      <td>-9.14</td>\n",
       "    </tr>\n",
       "    <tr>\n",
       "      <th>379</th>\n",
       "      <td>药易购</td>\n",
       "      <td>-6.83</td>\n",
       "    </tr>\n",
       "  </tbody>\n",
       "</table>\n",
       "</div>"
      ],
      "text/plain": [
       "    code_name  open_diff_4_1\n",
       "28       国药股份           4.50\n",
       "142      奕瑞科技        -105.43\n",
       "169      惠泰医疗          40.81\n",
       "372      迈瑞医疗          -9.14\n",
       "379       药易购          -6.83"
      ]
     },
     "execution_count": 32,
     "metadata": {},
     "output_type": "execute_result"
    }
   ],
   "source": [
    "selected_result.loc[potential_company_index][['code_name','open_diff_4_1']]\n"
   ]
  },
  {
   "cell_type": "code",
   "execution_count": 23,
   "metadata": {},
   "outputs": [
    {
     "data": {
      "text/html": [
       "<div>\n",
       "<style scoped>\n",
       "    .dataframe tbody tr th:only-of-type {\n",
       "        vertical-align: middle;\n",
       "    }\n",
       "\n",
       "    .dataframe tbody tr th {\n",
       "        vertical-align: top;\n",
       "    }\n",
       "\n",
       "    .dataframe thead th {\n",
       "        text-align: right;\n",
       "    }\n",
       "</style>\n",
       "<table border=\"1\" class=\"dataframe\">\n",
       "  <thead>\n",
       "    <tr style=\"text-align: right;\">\n",
       "      <th></th>\n",
       "      <th>code</th>\n",
       "      <th>npMargin</th>\n",
       "      <th>netProfit</th>\n",
       "      <th>MBRevenue</th>\n",
       "      <th>epsTTM</th>\n",
       "      <th>totalShare</th>\n",
       "      <th>liqaShare</th>\n",
       "      <th>YOYEquity</th>\n",
       "      <th>YOYEPSBasic</th>\n",
       "      <th>YOYNI</th>\n",
       "      <th>...</th>\n",
       "      <th>industry</th>\n",
       "      <th>open</th>\n",
       "      <th>volume</th>\n",
       "      <th>open_91</th>\n",
       "      <th>volume_91</th>\n",
       "      <th>open_dif</th>\n",
       "      <th>volume_dif</th>\n",
       "      <th>open_41</th>\n",
       "      <th>volume_41</th>\n",
       "      <th>open_diff_4_1</th>\n",
       "    </tr>\n",
       "  </thead>\n",
       "  <tbody>\n",
       "    <tr>\n",
       "      <th>2</th>\n",
       "      <td>sh.600062</td>\n",
       "      <td>0.129710</td>\n",
       "      <td>1.325908e+09</td>\n",
       "      <td>1.011376e+10</td>\n",
       "      <td>1.282080</td>\n",
       "      <td>1.039740e+09</td>\n",
       "      <td>1.021061e+09</td>\n",
       "      <td>0.050582</td>\n",
       "      <td>0.140927</td>\n",
       "      <td>0.074783</td>\n",
       "      <td>...</td>\n",
       "      <td>医药生物</td>\n",
       "      <td>18.65</td>\n",
       "      <td>9278487.0</td>\n",
       "      <td>16.10</td>\n",
       "      <td>4940908.0</td>\n",
       "      <td>2.55</td>\n",
       "      <td>4337579.0</td>\n",
       "      <td>20.65</td>\n",
       "      <td>7682161.0</td>\n",
       "      <td>2.00</td>\n",
       "    </tr>\n",
       "    <tr>\n",
       "      <th>9</th>\n",
       "      <td>sh.600200</td>\n",
       "      <td>-0.033239</td>\n",
       "      <td>-7.445481e+07</td>\n",
       "      <td>2.224200e+09</td>\n",
       "      <td>-0.101006</td>\n",
       "      <td>7.122858e+08</td>\n",
       "      <td>7.095581e+08</td>\n",
       "      <td>-0.033065</td>\n",
       "      <td>0.090909</td>\n",
       "      <td>0.049312</td>\n",
       "      <td>...</td>\n",
       "      <td>医药生物</td>\n",
       "      <td>8.25</td>\n",
       "      <td>32080342.0</td>\n",
       "      <td>7.50</td>\n",
       "      <td>6794809.0</td>\n",
       "      <td>0.75</td>\n",
       "      <td>25285533.0</td>\n",
       "      <td>11.44</td>\n",
       "      <td>82308012.0</td>\n",
       "      <td>3.19</td>\n",
       "    </tr>\n",
       "    <tr>\n",
       "      <th>17</th>\n",
       "      <td>sh.600276</td>\n",
       "      <td>0.187461</td>\n",
       "      <td>4.277821e+09</td>\n",
       "      <td>2.237719e+10</td>\n",
       "      <td>0.674468</td>\n",
       "      <td>6.379002e+09</td>\n",
       "      <td>6.374208e+09</td>\n",
       "      <td>0.069857</td>\n",
       "      <td>0.114754</td>\n",
       "      <td>0.121274</td>\n",
       "      <td>...</td>\n",
       "      <td>医药生物</td>\n",
       "      <td>45.24</td>\n",
       "      <td>18260797.0</td>\n",
       "      <td>41.85</td>\n",
       "      <td>16531303.0</td>\n",
       "      <td>3.39</td>\n",
       "      <td>1729494.0</td>\n",
       "      <td>45.98</td>\n",
       "      <td>20222435.0</td>\n",
       "      <td>0.74</td>\n",
       "    </tr>\n",
       "    <tr>\n",
       "      <th>18</th>\n",
       "      <td>sh.600285</td>\n",
       "      <td>0.171560</td>\n",
       "      <td>5.681157e+08</td>\n",
       "      <td>3.307500e+09</td>\n",
       "      <td>1.001702</td>\n",
       "      <td>5.671440e+08</td>\n",
       "      <td>5.631872e+08</td>\n",
       "      <td>0.094176</td>\n",
       "      <td>0.210526</td>\n",
       "      <td>0.220953</td>\n",
       "      <td>...</td>\n",
       "      <td>医药生物</td>\n",
       "      <td>17.18</td>\n",
       "      <td>11110643.0</td>\n",
       "      <td>16.14</td>\n",
       "      <td>5120439.0</td>\n",
       "      <td>1.04</td>\n",
       "      <td>5990204.0</td>\n",
       "      <td>21.43</td>\n",
       "      <td>8689550.0</td>\n",
       "      <td>4.25</td>\n",
       "    </tr>\n",
       "    <tr>\n",
       "      <th>20</th>\n",
       "      <td>sh.600332</td>\n",
       "      <td>0.056403</td>\n",
       "      <td>4.259328e+09</td>\n",
       "      <td>7.527487e+10</td>\n",
       "      <td>2.494588</td>\n",
       "      <td>1.625791e+09</td>\n",
       "      <td>1.405891e+09</td>\n",
       "      <td>0.089011</td>\n",
       "      <td>0.022541</td>\n",
       "      <td>0.001401</td>\n",
       "      <td>...</td>\n",
       "      <td>医药生物</td>\n",
       "      <td>28.61</td>\n",
       "      <td>7090507.0</td>\n",
       "      <td>30.94</td>\n",
       "      <td>3403375.0</td>\n",
       "      <td>-2.33</td>\n",
       "      <td>3687132.0</td>\n",
       "      <td>28.86</td>\n",
       "      <td>7454310.0</td>\n",
       "      <td>0.25</td>\n",
       "    </tr>\n",
       "  </tbody>\n",
       "</table>\n",
       "<p>5 rows × 26 columns</p>\n",
       "</div>"
      ],
      "text/plain": [
       "         code  npMargin     netProfit     MBRevenue    epsTTM    totalShare  \\\n",
       "2   sh.600062  0.129710  1.325908e+09  1.011376e+10  1.282080  1.039740e+09   \n",
       "9   sh.600200 -0.033239 -7.445481e+07  2.224200e+09 -0.101006  7.122858e+08   \n",
       "17  sh.600276  0.187461  4.277821e+09  2.237719e+10  0.674468  6.379002e+09   \n",
       "18  sh.600285  0.171560  5.681157e+08  3.307500e+09  1.001702  5.671440e+08   \n",
       "20  sh.600332  0.056403  4.259328e+09  7.527487e+10  2.494588  1.625791e+09   \n",
       "\n",
       "       liqaShare  YOYEquity  YOYEPSBasic     YOYNI  ...  industry   open  \\\n",
       "2   1.021061e+09   0.050582     0.140927  0.074783  ...      医药生物  18.65   \n",
       "9   7.095581e+08  -0.033065     0.090909  0.049312  ...      医药生物   8.25   \n",
       "17  6.374208e+09   0.069857     0.114754  0.121274  ...      医药生物  45.24   \n",
       "18  5.631872e+08   0.094176     0.210526  0.220953  ...      医药生物  17.18   \n",
       "20  1.405891e+09   0.089011     0.022541  0.001401  ...      医药生物  28.61   \n",
       "\n",
       "        volume  open_91   volume_91 open_dif  volume_dif  open_41   volume_41  \\\n",
       "2    9278487.0    16.10   4940908.0     2.55   4337579.0    20.65   7682161.0   \n",
       "9   32080342.0     7.50   6794809.0     0.75  25285533.0    11.44  82308012.0   \n",
       "17  18260797.0    41.85  16531303.0     3.39   1729494.0    45.98  20222435.0   \n",
       "18  11110643.0    16.14   5120439.0     1.04   5990204.0    21.43   8689550.0   \n",
       "20   7090507.0    30.94   3403375.0    -2.33   3687132.0    28.86   7454310.0   \n",
       "\n",
       "    open_diff_4_1  \n",
       "2            2.00  \n",
       "9            3.19  \n",
       "17           0.74  \n",
       "18           4.25  \n",
       "20           0.25  \n",
       "\n",
       "[5 rows x 26 columns]"
      ]
     },
     "execution_count": 23,
     "metadata": {},
     "output_type": "execute_result"
    }
   ],
   "source": [
    "selected_result[selected_result['open_diff_4_1']>0].head()"
   ]
  },
  {
   "cell_type": "code",
   "execution_count": 24,
   "metadata": {},
   "outputs": [
    {
     "name": "stderr",
     "output_type": "stream",
     "text": [
      "d:\\Anaconda\\lib\\site-packages\\ipykernel_launcher.py:1: UserWarning: Boolean Series key will be reindexed to match DataFrame index.\n",
      "  \"\"\"Entry point for launching an IPython kernel.\n"
     ]
    },
    {
     "data": {
      "text/html": [
       "<div>\n",
       "<style scoped>\n",
       "    .dataframe tbody tr th:only-of-type {\n",
       "        vertical-align: middle;\n",
       "    }\n",
       "\n",
       "    .dataframe tbody tr th {\n",
       "        vertical-align: top;\n",
       "    }\n",
       "\n",
       "    .dataframe thead th {\n",
       "        text-align: right;\n",
       "    }\n",
       "</style>\n",
       "<table border=\"1\" class=\"dataframe\">\n",
       "  <thead>\n",
       "    <tr style=\"text-align: right;\">\n",
       "      <th></th>\n",
       "      <th>code_name</th>\n",
       "      <th>open_diff_4_1</th>\n",
       "    </tr>\n",
       "  </thead>\n",
       "  <tbody>\n",
       "    <tr>\n",
       "      <th>28</th>\n",
       "      <td>国药股份</td>\n",
       "      <td>4.50</td>\n",
       "    </tr>\n",
       "    <tr>\n",
       "      <th>62</th>\n",
       "      <td>九州通</td>\n",
       "      <td>1.05</td>\n",
       "    </tr>\n",
       "    <tr>\n",
       "      <th>115</th>\n",
       "      <td>诺泰生物</td>\n",
       "      <td>8.11</td>\n",
       "    </tr>\n",
       "    <tr>\n",
       "      <th>156</th>\n",
       "      <td>硕世生物</td>\n",
       "      <td>13.92</td>\n",
       "    </tr>\n",
       "    <tr>\n",
       "      <th>169</th>\n",
       "      <td>惠泰医疗</td>\n",
       "      <td>40.81</td>\n",
       "    </tr>\n",
       "    <tr>\n",
       "      <th>181</th>\n",
       "      <td>国药一致</td>\n",
       "      <td>1.72</td>\n",
       "    </tr>\n",
       "    <tr>\n",
       "      <th>194</th>\n",
       "      <td>云南白药</td>\n",
       "      <td>1.20</td>\n",
       "    </tr>\n",
       "    <tr>\n",
       "      <th>378</th>\n",
       "      <td>爱美客</td>\n",
       "      <td>52.78</td>\n",
       "    </tr>\n",
       "  </tbody>\n",
       "</table>\n",
       "</div>"
      ],
      "text/plain": [
       "    code_name  open_diff_4_1\n",
       "28       国药股份           4.50\n",
       "62        九州通           1.05\n",
       "115      诺泰生物           8.11\n",
       "156      硕世生物          13.92\n",
       "169      惠泰医疗          40.81\n",
       "181      国药一致           1.72\n",
       "194      云南白药           1.20\n",
       "378       爱美客          52.78"
      ]
     },
     "execution_count": 24,
     "metadata": {},
     "output_type": "execute_result"
    }
   ],
   "source": [
    "selected_result.loc[outliers.index][selected_result['open_diff_4_1']>1][['code_name','open_diff_4_1']]"
   ]
  },
  {
   "cell_type": "code",
   "execution_count": 34,
   "metadata": {},
   "outputs": [
    {
     "name": "stderr",
     "output_type": "stream",
     "text": [
      "d:\\Anaconda\\lib\\site-packages\\ipykernel_launcher.py:1: UserWarning: Boolean Series key will be reindexed to match DataFrame index.\n",
      "  \"\"\"Entry point for launching an IPython kernel.\n"
     ]
    },
    {
     "data": {
      "text/html": [
       "<div>\n",
       "<style scoped>\n",
       "    .dataframe tbody tr th:only-of-type {\n",
       "        vertical-align: middle;\n",
       "    }\n",
       "\n",
       "    .dataframe tbody tr th {\n",
       "        vertical-align: top;\n",
       "    }\n",
       "\n",
       "    .dataframe thead th {\n",
       "        text-align: right;\n",
       "    }\n",
       "</style>\n",
       "<table border=\"1\" class=\"dataframe\">\n",
       "  <thead>\n",
       "    <tr style=\"text-align: right;\">\n",
       "      <th></th>\n",
       "      <th>Cluster</th>\n",
       "      <th>PCA1</th>\n",
       "      <th>PCA2</th>\n",
       "      <th>PCA3</th>\n",
       "      <th>PCA4</th>\n",
       "    </tr>\n",
       "  </thead>\n",
       "  <tbody>\n",
       "    <tr>\n",
       "      <th>28</th>\n",
       "      <td>2</td>\n",
       "      <td>-1.794200</td>\n",
       "      <td>-0.131646</td>\n",
       "      <td>-1.771791</td>\n",
       "      <td>2.408849</td>\n",
       "    </tr>\n",
       "    <tr>\n",
       "      <th>62</th>\n",
       "      <td>2</td>\n",
       "      <td>-4.116427</td>\n",
       "      <td>5.652671</td>\n",
       "      <td>-2.596376</td>\n",
       "      <td>2.748992</td>\n",
       "    </tr>\n",
       "    <tr>\n",
       "      <th>115</th>\n",
       "      <td>1</td>\n",
       "      <td>0.922372</td>\n",
       "      <td>-1.831397</td>\n",
       "      <td>-0.412503</td>\n",
       "      <td>-0.798790</td>\n",
       "    </tr>\n",
       "    <tr>\n",
       "      <th>156</th>\n",
       "      <td>2</td>\n",
       "      <td>3.985276</td>\n",
       "      <td>-0.135360</td>\n",
       "      <td>0.658027</td>\n",
       "      <td>-2.514425</td>\n",
       "    </tr>\n",
       "    <tr>\n",
       "      <th>169</th>\n",
       "      <td>1</td>\n",
       "      <td>-1.182443</td>\n",
       "      <td>-3.424027</td>\n",
       "      <td>-0.246454</td>\n",
       "      <td>1.084677</td>\n",
       "    </tr>\n",
       "    <tr>\n",
       "      <th>181</th>\n",
       "      <td>2</td>\n",
       "      <td>-1.856045</td>\n",
       "      <td>0.538828</td>\n",
       "      <td>-2.583793</td>\n",
       "      <td>3.111357</td>\n",
       "    </tr>\n",
       "    <tr>\n",
       "      <th>194</th>\n",
       "      <td>1</td>\n",
       "      <td>-2.591710</td>\n",
       "      <td>-0.176744</td>\n",
       "      <td>0.039226</td>\n",
       "      <td>0.985857</td>\n",
       "    </tr>\n",
       "    <tr>\n",
       "      <th>378</th>\n",
       "      <td>1</td>\n",
       "      <td>-3.440978</td>\n",
       "      <td>-6.707910</td>\n",
       "      <td>2.028333</td>\n",
       "      <td>0.968259</td>\n",
       "    </tr>\n",
       "  </tbody>\n",
       "</table>\n",
       "</div>"
      ],
      "text/plain": [
       "     Cluster      PCA1      PCA2      PCA3      PCA4\n",
       "28         2 -1.794200 -0.131646 -1.771791  2.408849\n",
       "62         2 -4.116427  5.652671 -2.596376  2.748992\n",
       "115        1  0.922372 -1.831397 -0.412503 -0.798790\n",
       "156        2  3.985276 -0.135360  0.658027 -2.514425\n",
       "169        1 -1.182443 -3.424027 -0.246454  1.084677\n",
       "181        2 -1.856045  0.538828 -2.583793  3.111357\n",
       "194        1 -2.591710 -0.176744  0.039226  0.985857\n",
       "378        1 -3.440978 -6.707910  2.028333  0.968259"
      ]
     },
     "execution_count": 34,
     "metadata": {},
     "output_type": "execute_result"
    }
   ],
   "source": [
    "outliers.loc[selected_result.loc[outliers.index][selected_result['open_diff_4_1']>1][['code_name','open_diff_4_1']].index]\\\n",
    "    [['Cluster','PCA1','PCA2','PCA3','PCA4']]"
   ]
  },
  {
   "cell_type": "code",
   "execution_count": 48,
   "metadata": {},
   "outputs": [
    {
     "name": "stderr",
     "output_type": "stream",
     "text": [
      "d:\\Anaconda\\lib\\site-packages\\ipykernel_launcher.py:1: UserWarning: Boolean Series key will be reindexed to match DataFrame index.\n",
      "  \"\"\"Entry point for launching an IPython kernel.\n"
     ]
    },
    {
     "data": {
      "text/plain": [
       "code_name        9\n",
       "open_diff_4_1    9\n",
       "dtype: int64"
      ]
     },
     "execution_count": 48,
     "metadata": {},
     "output_type": "execute_result"
    }
   ],
   "source": [
    "selected_result.loc[outliers.index][selected_result['open_diff_4_1']>1][['code_name','open_diff_4_1']].count()"
   ]
  },
  {
   "cell_type": "code",
   "execution_count": null,
   "metadata": {},
   "outputs": [],
   "source": []
  }
 ],
 "metadata": {
  "kernelspec": {
   "display_name": "base",
   "language": "python",
   "name": "python3"
  },
  "language_info": {
   "codemirror_mode": {
    "name": "ipython",
    "version": 3
   },
   "file_extension": ".py",
   "mimetype": "text/x-python",
   "name": "python",
   "nbconvert_exporter": "python",
   "pygments_lexer": "ipython3",
   "version": "3.7.0"
  }
 },
 "nbformat": 4,
 "nbformat_minor": 2
}
