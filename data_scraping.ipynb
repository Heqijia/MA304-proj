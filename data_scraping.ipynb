{
 "cells": [
  {
   "cell_type": "code",
   "execution_count": 1,
   "metadata": {},
   "outputs": [],
   "source": [
    "import baostock as bs\n",
    "import pandas as pd\n",
    "from tqdm import tqdm\n",
    "import gc"
   ]
  },
  {
   "cell_type": "markdown",
   "metadata": {},
   "source": [
    "### 01 获取股票（公司）的list"
   ]
  },
  {
   "cell_type": "code",
   "execution_count": 2,
   "metadata": {},
   "outputs": [
    {
     "name": "stdout",
     "output_type": "stream",
     "text": [
      "login success!\n",
      "login respond error_code:0\n",
      "login respond  error_msg:success\n",
      "query_stock_industry error_code:0\n",
      "query_stock_industry respond  error_msg:success\n",
      "logout success!\n"
     ]
    },
    {
     "ename": "PermissionError",
     "evalue": "[Errno 13] Permission denied: './data/stock_industry.csv'",
     "output_type": "error",
     "traceback": [
      "\u001b[1;31m---------------------------------------------------------------------------\u001b[0m",
      "\u001b[1;31mPermissionError\u001b[0m                           Traceback (most recent call last)",
      "Cell \u001b[1;32mIn[2], line 15\u001b[0m\n\u001b[0;32m     13\u001b[0m result \u001b[38;5;241m=\u001b[39m pd\u001b[38;5;241m.\u001b[39mDataFrame(industry_list, columns\u001b[38;5;241m=\u001b[39mrs\u001b[38;5;241m.\u001b[39mfields)\n\u001b[0;32m     14\u001b[0m bs\u001b[38;5;241m.\u001b[39mlogout()\n\u001b[1;32m---> 15\u001b[0m \u001b[43mresult\u001b[49m\u001b[38;5;241;43m.\u001b[39;49m\u001b[43mto_csv\u001b[49m\u001b[43m(\u001b[49m\u001b[38;5;124;43m\"\u001b[39;49m\u001b[38;5;124;43m./data/stock_industry.csv\u001b[39;49m\u001b[38;5;124;43m\"\u001b[39;49m\u001b[43m,\u001b[49m\u001b[43m \u001b[49m\u001b[43mencoding\u001b[49m\u001b[38;5;241;43m=\u001b[39;49m\u001b[38;5;124;43m\"\u001b[39;49m\u001b[38;5;124;43mgbk\u001b[39;49m\u001b[38;5;124;43m\"\u001b[39;49m\u001b[43m,\u001b[49m\u001b[43m \u001b[49m\u001b[43mindex\u001b[49m\u001b[38;5;241;43m=\u001b[39;49m\u001b[38;5;28;43;01mFalse\u001b[39;49;00m\u001b[43m)\u001b[49m\n",
      "File \u001b[1;32md:\\Tools\\Codes\\anaconda3\\lib\\site-packages\\pandas\\util\\_decorators.py:211\u001b[0m, in \u001b[0;36mdeprecate_kwarg.<locals>._deprecate_kwarg.<locals>.wrapper\u001b[1;34m(*args, **kwargs)\u001b[0m\n\u001b[0;32m    209\u001b[0m     \u001b[38;5;28;01melse\u001b[39;00m:\n\u001b[0;32m    210\u001b[0m         kwargs[new_arg_name] \u001b[38;5;241m=\u001b[39m new_arg_value\n\u001b[1;32m--> 211\u001b[0m \u001b[38;5;28;01mreturn\u001b[39;00m func(\u001b[38;5;241m*\u001b[39margs, \u001b[38;5;241m*\u001b[39m\u001b[38;5;241m*\u001b[39mkwargs)\n",
      "File \u001b[1;32md:\\Tools\\Codes\\anaconda3\\lib\\site-packages\\pandas\\core\\generic.py:3720\u001b[0m, in \u001b[0;36mNDFrame.to_csv\u001b[1;34m(self, path_or_buf, sep, na_rep, float_format, columns, header, index, index_label, mode, encoding, compression, quoting, quotechar, lineterminator, chunksize, date_format, doublequote, escapechar, decimal, errors, storage_options)\u001b[0m\n\u001b[0;32m   3709\u001b[0m df \u001b[38;5;241m=\u001b[39m \u001b[38;5;28mself\u001b[39m \u001b[38;5;28;01mif\u001b[39;00m \u001b[38;5;28misinstance\u001b[39m(\u001b[38;5;28mself\u001b[39m, ABCDataFrame) \u001b[38;5;28;01melse\u001b[39;00m \u001b[38;5;28mself\u001b[39m\u001b[38;5;241m.\u001b[39mto_frame()\n\u001b[0;32m   3711\u001b[0m formatter \u001b[38;5;241m=\u001b[39m DataFrameFormatter(\n\u001b[0;32m   3712\u001b[0m     frame\u001b[38;5;241m=\u001b[39mdf,\n\u001b[0;32m   3713\u001b[0m     header\u001b[38;5;241m=\u001b[39mheader,\n\u001b[1;32m   (...)\u001b[0m\n\u001b[0;32m   3717\u001b[0m     decimal\u001b[38;5;241m=\u001b[39mdecimal,\n\u001b[0;32m   3718\u001b[0m )\n\u001b[1;32m-> 3720\u001b[0m \u001b[38;5;28;01mreturn\u001b[39;00m \u001b[43mDataFrameRenderer\u001b[49m\u001b[43m(\u001b[49m\u001b[43mformatter\u001b[49m\u001b[43m)\u001b[49m\u001b[38;5;241;43m.\u001b[39;49m\u001b[43mto_csv\u001b[49m\u001b[43m(\u001b[49m\n\u001b[0;32m   3721\u001b[0m \u001b[43m    \u001b[49m\u001b[43mpath_or_buf\u001b[49m\u001b[43m,\u001b[49m\n\u001b[0;32m   3722\u001b[0m \u001b[43m    \u001b[49m\u001b[43mlineterminator\u001b[49m\u001b[38;5;241;43m=\u001b[39;49m\u001b[43mlineterminator\u001b[49m\u001b[43m,\u001b[49m\n\u001b[0;32m   3723\u001b[0m \u001b[43m    \u001b[49m\u001b[43msep\u001b[49m\u001b[38;5;241;43m=\u001b[39;49m\u001b[43msep\u001b[49m\u001b[43m,\u001b[49m\n\u001b[0;32m   3724\u001b[0m \u001b[43m    \u001b[49m\u001b[43mencoding\u001b[49m\u001b[38;5;241;43m=\u001b[39;49m\u001b[43mencoding\u001b[49m\u001b[43m,\u001b[49m\n\u001b[0;32m   3725\u001b[0m \u001b[43m    \u001b[49m\u001b[43merrors\u001b[49m\u001b[38;5;241;43m=\u001b[39;49m\u001b[43merrors\u001b[49m\u001b[43m,\u001b[49m\n\u001b[0;32m   3726\u001b[0m \u001b[43m    \u001b[49m\u001b[43mcompression\u001b[49m\u001b[38;5;241;43m=\u001b[39;49m\u001b[43mcompression\u001b[49m\u001b[43m,\u001b[49m\n\u001b[0;32m   3727\u001b[0m \u001b[43m    \u001b[49m\u001b[43mquoting\u001b[49m\u001b[38;5;241;43m=\u001b[39;49m\u001b[43mquoting\u001b[49m\u001b[43m,\u001b[49m\n\u001b[0;32m   3728\u001b[0m \u001b[43m    \u001b[49m\u001b[43mcolumns\u001b[49m\u001b[38;5;241;43m=\u001b[39;49m\u001b[43mcolumns\u001b[49m\u001b[43m,\u001b[49m\n\u001b[0;32m   3729\u001b[0m \u001b[43m    \u001b[49m\u001b[43mindex_label\u001b[49m\u001b[38;5;241;43m=\u001b[39;49m\u001b[43mindex_label\u001b[49m\u001b[43m,\u001b[49m\n\u001b[0;32m   3730\u001b[0m \u001b[43m    \u001b[49m\u001b[43mmode\u001b[49m\u001b[38;5;241;43m=\u001b[39;49m\u001b[43mmode\u001b[49m\u001b[43m,\u001b[49m\n\u001b[0;32m   3731\u001b[0m \u001b[43m    \u001b[49m\u001b[43mchunksize\u001b[49m\u001b[38;5;241;43m=\u001b[39;49m\u001b[43mchunksize\u001b[49m\u001b[43m,\u001b[49m\n\u001b[0;32m   3732\u001b[0m \u001b[43m    \u001b[49m\u001b[43mquotechar\u001b[49m\u001b[38;5;241;43m=\u001b[39;49m\u001b[43mquotechar\u001b[49m\u001b[43m,\u001b[49m\n\u001b[0;32m   3733\u001b[0m \u001b[43m    \u001b[49m\u001b[43mdate_format\u001b[49m\u001b[38;5;241;43m=\u001b[39;49m\u001b[43mdate_format\u001b[49m\u001b[43m,\u001b[49m\n\u001b[0;32m   3734\u001b[0m \u001b[43m    \u001b[49m\u001b[43mdoublequote\u001b[49m\u001b[38;5;241;43m=\u001b[39;49m\u001b[43mdoublequote\u001b[49m\u001b[43m,\u001b[49m\n\u001b[0;32m   3735\u001b[0m \u001b[43m    \u001b[49m\u001b[43mescapechar\u001b[49m\u001b[38;5;241;43m=\u001b[39;49m\u001b[43mescapechar\u001b[49m\u001b[43m,\u001b[49m\n\u001b[0;32m   3736\u001b[0m \u001b[43m    \u001b[49m\u001b[43mstorage_options\u001b[49m\u001b[38;5;241;43m=\u001b[39;49m\u001b[43mstorage_options\u001b[49m\u001b[43m,\u001b[49m\n\u001b[0;32m   3737\u001b[0m \u001b[43m\u001b[49m\u001b[43m)\u001b[49m\n",
      "File \u001b[1;32md:\\Tools\\Codes\\anaconda3\\lib\\site-packages\\pandas\\util\\_decorators.py:211\u001b[0m, in \u001b[0;36mdeprecate_kwarg.<locals>._deprecate_kwarg.<locals>.wrapper\u001b[1;34m(*args, **kwargs)\u001b[0m\n\u001b[0;32m    209\u001b[0m     \u001b[38;5;28;01melse\u001b[39;00m:\n\u001b[0;32m    210\u001b[0m         kwargs[new_arg_name] \u001b[38;5;241m=\u001b[39m new_arg_value\n\u001b[1;32m--> 211\u001b[0m \u001b[38;5;28;01mreturn\u001b[39;00m func(\u001b[38;5;241m*\u001b[39margs, \u001b[38;5;241m*\u001b[39m\u001b[38;5;241m*\u001b[39mkwargs)\n",
      "File \u001b[1;32md:\\Tools\\Codes\\anaconda3\\lib\\site-packages\\pandas\\io\\formats\\format.py:1189\u001b[0m, in \u001b[0;36mDataFrameRenderer.to_csv\u001b[1;34m(self, path_or_buf, encoding, sep, columns, index_label, mode, compression, quoting, quotechar, lineterminator, chunksize, date_format, doublequote, escapechar, errors, storage_options)\u001b[0m\n\u001b[0;32m   1168\u001b[0m     created_buffer \u001b[38;5;241m=\u001b[39m \u001b[38;5;28;01mFalse\u001b[39;00m\n\u001b[0;32m   1170\u001b[0m csv_formatter \u001b[38;5;241m=\u001b[39m CSVFormatter(\n\u001b[0;32m   1171\u001b[0m     path_or_buf\u001b[38;5;241m=\u001b[39mpath_or_buf,\n\u001b[0;32m   1172\u001b[0m     lineterminator\u001b[38;5;241m=\u001b[39mlineterminator,\n\u001b[1;32m   (...)\u001b[0m\n\u001b[0;32m   1187\u001b[0m     formatter\u001b[38;5;241m=\u001b[39m\u001b[38;5;28mself\u001b[39m\u001b[38;5;241m.\u001b[39mfmt,\n\u001b[0;32m   1188\u001b[0m )\n\u001b[1;32m-> 1189\u001b[0m \u001b[43mcsv_formatter\u001b[49m\u001b[38;5;241;43m.\u001b[39;49m\u001b[43msave\u001b[49m\u001b[43m(\u001b[49m\u001b[43m)\u001b[49m\n\u001b[0;32m   1191\u001b[0m \u001b[38;5;28;01mif\u001b[39;00m created_buffer:\n\u001b[0;32m   1192\u001b[0m     \u001b[38;5;28;01massert\u001b[39;00m \u001b[38;5;28misinstance\u001b[39m(path_or_buf, StringIO)\n",
      "File \u001b[1;32md:\\Tools\\Codes\\anaconda3\\lib\\site-packages\\pandas\\io\\formats\\csvs.py:241\u001b[0m, in \u001b[0;36mCSVFormatter.save\u001b[1;34m(self)\u001b[0m\n\u001b[0;32m    237\u001b[0m \u001b[38;5;250m\u001b[39m\u001b[38;5;124;03m\"\"\"\u001b[39;00m\n\u001b[0;32m    238\u001b[0m \u001b[38;5;124;03mCreate the writer & save.\u001b[39;00m\n\u001b[0;32m    239\u001b[0m \u001b[38;5;124;03m\"\"\"\u001b[39;00m\n\u001b[0;32m    240\u001b[0m \u001b[38;5;66;03m# apply compression and byte/text conversion\u001b[39;00m\n\u001b[1;32m--> 241\u001b[0m \u001b[38;5;28;01mwith\u001b[39;00m \u001b[43mget_handle\u001b[49m\u001b[43m(\u001b[49m\n\u001b[0;32m    242\u001b[0m \u001b[43m    \u001b[49m\u001b[38;5;28;43mself\u001b[39;49m\u001b[38;5;241;43m.\u001b[39;49m\u001b[43mfilepath_or_buffer\u001b[49m\u001b[43m,\u001b[49m\n\u001b[0;32m    243\u001b[0m \u001b[43m    \u001b[49m\u001b[38;5;28;43mself\u001b[39;49m\u001b[38;5;241;43m.\u001b[39;49m\u001b[43mmode\u001b[49m\u001b[43m,\u001b[49m\n\u001b[0;32m    244\u001b[0m \u001b[43m    \u001b[49m\u001b[43mencoding\u001b[49m\u001b[38;5;241;43m=\u001b[39;49m\u001b[38;5;28;43mself\u001b[39;49m\u001b[38;5;241;43m.\u001b[39;49m\u001b[43mencoding\u001b[49m\u001b[43m,\u001b[49m\n\u001b[0;32m    245\u001b[0m \u001b[43m    \u001b[49m\u001b[43merrors\u001b[49m\u001b[38;5;241;43m=\u001b[39;49m\u001b[38;5;28;43mself\u001b[39;49m\u001b[38;5;241;43m.\u001b[39;49m\u001b[43merrors\u001b[49m\u001b[43m,\u001b[49m\n\u001b[0;32m    246\u001b[0m \u001b[43m    \u001b[49m\u001b[43mcompression\u001b[49m\u001b[38;5;241;43m=\u001b[39;49m\u001b[38;5;28;43mself\u001b[39;49m\u001b[38;5;241;43m.\u001b[39;49m\u001b[43mcompression\u001b[49m\u001b[43m,\u001b[49m\n\u001b[0;32m    247\u001b[0m \u001b[43m    \u001b[49m\u001b[43mstorage_options\u001b[49m\u001b[38;5;241;43m=\u001b[39;49m\u001b[38;5;28;43mself\u001b[39;49m\u001b[38;5;241;43m.\u001b[39;49m\u001b[43mstorage_options\u001b[49m\u001b[43m,\u001b[49m\n\u001b[0;32m    248\u001b[0m \u001b[43m\u001b[49m\u001b[43m)\u001b[49m \u001b[38;5;28;01mas\u001b[39;00m handles:\n\u001b[0;32m    249\u001b[0m \n\u001b[0;32m    250\u001b[0m     \u001b[38;5;66;03m# Note: self.encoding is irrelevant here\u001b[39;00m\n\u001b[0;32m    251\u001b[0m     \u001b[38;5;28mself\u001b[39m\u001b[38;5;241m.\u001b[39mwriter \u001b[38;5;241m=\u001b[39m csvlib\u001b[38;5;241m.\u001b[39mwriter(\n\u001b[0;32m    252\u001b[0m         handles\u001b[38;5;241m.\u001b[39mhandle,\n\u001b[0;32m    253\u001b[0m         lineterminator\u001b[38;5;241m=\u001b[39m\u001b[38;5;28mself\u001b[39m\u001b[38;5;241m.\u001b[39mlineterminator,\n\u001b[1;32m   (...)\u001b[0m\n\u001b[0;32m    258\u001b[0m         quotechar\u001b[38;5;241m=\u001b[39m\u001b[38;5;28mself\u001b[39m\u001b[38;5;241m.\u001b[39mquotechar,\n\u001b[0;32m    259\u001b[0m     )\n\u001b[0;32m    261\u001b[0m     \u001b[38;5;28mself\u001b[39m\u001b[38;5;241m.\u001b[39m_save()\n",
      "File \u001b[1;32md:\\Tools\\Codes\\anaconda3\\lib\\site-packages\\pandas\\io\\common.py:856\u001b[0m, in \u001b[0;36mget_handle\u001b[1;34m(path_or_buf, mode, encoding, compression, memory_map, is_text, errors, storage_options)\u001b[0m\n\u001b[0;32m    851\u001b[0m \u001b[38;5;28;01melif\u001b[39;00m \u001b[38;5;28misinstance\u001b[39m(handle, \u001b[38;5;28mstr\u001b[39m):\n\u001b[0;32m    852\u001b[0m     \u001b[38;5;66;03m# Check whether the filename is to be opened in binary mode.\u001b[39;00m\n\u001b[0;32m    853\u001b[0m     \u001b[38;5;66;03m# Binary mode does not support 'encoding' and 'newline'.\u001b[39;00m\n\u001b[0;32m    854\u001b[0m     \u001b[38;5;28;01mif\u001b[39;00m ioargs\u001b[38;5;241m.\u001b[39mencoding \u001b[38;5;129;01mand\u001b[39;00m \u001b[38;5;124m\"\u001b[39m\u001b[38;5;124mb\u001b[39m\u001b[38;5;124m\"\u001b[39m \u001b[38;5;129;01mnot\u001b[39;00m \u001b[38;5;129;01min\u001b[39;00m ioargs\u001b[38;5;241m.\u001b[39mmode:\n\u001b[0;32m    855\u001b[0m         \u001b[38;5;66;03m# Encoding\u001b[39;00m\n\u001b[1;32m--> 856\u001b[0m         handle \u001b[38;5;241m=\u001b[39m \u001b[38;5;28;43mopen\u001b[39;49m\u001b[43m(\u001b[49m\n\u001b[0;32m    857\u001b[0m \u001b[43m            \u001b[49m\u001b[43mhandle\u001b[49m\u001b[43m,\u001b[49m\n\u001b[0;32m    858\u001b[0m \u001b[43m            \u001b[49m\u001b[43mioargs\u001b[49m\u001b[38;5;241;43m.\u001b[39;49m\u001b[43mmode\u001b[49m\u001b[43m,\u001b[49m\n\u001b[0;32m    859\u001b[0m \u001b[43m            \u001b[49m\u001b[43mencoding\u001b[49m\u001b[38;5;241;43m=\u001b[39;49m\u001b[43mioargs\u001b[49m\u001b[38;5;241;43m.\u001b[39;49m\u001b[43mencoding\u001b[49m\u001b[43m,\u001b[49m\n\u001b[0;32m    860\u001b[0m \u001b[43m            \u001b[49m\u001b[43merrors\u001b[49m\u001b[38;5;241;43m=\u001b[39;49m\u001b[43merrors\u001b[49m\u001b[43m,\u001b[49m\n\u001b[0;32m    861\u001b[0m \u001b[43m            \u001b[49m\u001b[43mnewline\u001b[49m\u001b[38;5;241;43m=\u001b[39;49m\u001b[38;5;124;43m\"\u001b[39;49m\u001b[38;5;124;43m\"\u001b[39;49m\u001b[43m,\u001b[49m\n\u001b[0;32m    862\u001b[0m \u001b[43m        \u001b[49m\u001b[43m)\u001b[49m\n\u001b[0;32m    863\u001b[0m     \u001b[38;5;28;01melse\u001b[39;00m:\n\u001b[0;32m    864\u001b[0m         \u001b[38;5;66;03m# Binary mode\u001b[39;00m\n\u001b[0;32m    865\u001b[0m         handle \u001b[38;5;241m=\u001b[39m \u001b[38;5;28mopen\u001b[39m(handle, ioargs\u001b[38;5;241m.\u001b[39mmode)\n",
      "\u001b[1;31mPermissionError\u001b[0m: [Errno 13] Permission denied: './data/stock_industry.csv'"
     ]
    }
   ],
   "source": [
    "lg = bs.login()\n",
    "print('login respond error_code:'+lg.error_code)\n",
    "print('login respond  error_msg:'+lg.error_msg)\n",
    "\n",
    "rs = bs.query_stock_industry()\n",
    "print('query_stock_industry error_code:'+rs.error_code)\n",
    "print('query_stock_industry respond  error_msg:'+rs.error_msg)\n",
    "\n",
    "industry_list = []\n",
    "while (rs.error_code == '0') & rs.next():\n",
    "    # 获取一条记录，将记录合并在一起\n",
    "    industry_list.append(rs.get_row_data())\n",
    "result = pd.DataFrame(industry_list, columns=rs.fields)\n",
    "bs.logout()\n",
    "result.to_csv(\"./data/stock_industry.csv\", encoding=\"gbk\", index=False)"
   ]
  },
  {
   "cell_type": "code",
   "execution_count": null,
   "metadata": {},
   "outputs": [],
   "source": [
    "gc.collect()"
   ]
  },
  {
   "cell_type": "markdown",
   "metadata": {},
   "source": [
    "### 02 获取股票盈利能力"
   ]
  },
  {
   "cell_type": "code",
   "execution_count": null,
   "metadata": {},
   "outputs": [],
   "source": [
    "lg = bs.login()\n",
    "result_profit = pd.DataFrame()\n",
    "for i in tqdm(range(len(result))):\n",
    "    profit_list = []\n",
    "    rs_profit = bs.query_profit_data(code=result['code'][i], year=2023, quarter=4)\n",
    "    while (rs_profit.error_code == '0') & rs_profit.next():\n",
    "        profit_list.append(rs_profit.get_row_data())\n",
    "    result_profit = pd.concat([result_profit, pd.DataFrame(profit_list, columns=rs_profit.fields)], ignore_index=True)\n",
    "bs.logout()\n",
    "result_profit.to_csv(\"./data/stock_profit.csv\", encoding=\"gbk\", index=False)"
   ]
  },
  {
   "cell_type": "code",
   "execution_count": null,
   "metadata": {},
   "outputs": [],
   "source": [
    "gc.collect()\n",
    "del result_profit\n",
    "del profit_list"
   ]
  },
  {
   "cell_type": "markdown",
   "metadata": {},
   "source": [
    "### 03 获取公司成长能力"
   ]
  },
  {
   "cell_type": "code",
   "execution_count": null,
   "metadata": {},
   "outputs": [],
   "source": [
    "lg = bs.login()\n",
    "print('login respond error_code:'+lg.error_code)\n",
    "print('login respond  error_msg:'+lg.error_msg)\n",
    "\n",
    "result_growth = pd.DataFrame()\n",
    "for i in tqdm(range(len(result))):\n",
    "    growth_list = []\n",
    "    rs_growth = bs.query_growth_data(code=result['code'][i], year=2023, quarter=4)\n",
    "    while (rs_growth.error_code == '0') & rs_growth.next():\n",
    "        growth_list.append(rs_growth.get_row_data())\n",
    "    result_growth = pd.concat([result_growth, pd.DataFrame(growth_list, columns=rs_growth.fields)], ignore_index=True)\n",
    "bs.logout()\n",
    "result_growth.to_csv(\"./data/stock_growth.csv\", encoding=\"gbk\", index=False)"
   ]
  },
  {
   "cell_type": "markdown",
   "metadata": {},
   "source": [
    "### 04 获取公司杜邦指数"
   ]
  },
  {
   "cell_type": "code",
   "execution_count": null,
   "metadata": {},
   "outputs": [],
   "source": [
    "lg = bs.login()\n",
    "print('login respond error_code:'+lg.error_code)\n",
    "print('login respond  error_msg:'+lg.error_msg)\n",
    "\n",
    "# 查询杜邦指数\n",
    "result_dupont = pd.DataFrame()\n",
    "for i in tqdm(range(len(result))):\n",
    "    dupont_list = []\n",
    "    rs_dupont = bs.query_dupont_data(code=result['code'][i], year=2023, quarter=4)\n",
    "    while (rs_dupont.error_code == '0') & rs_dupont.next():\n",
    "        dupont_list.append(rs_dupont.get_row_data())\n",
    "    result_dupont = pd.concat([result_dupont, pd.DataFrame(dupont_list, columns=rs_dupont.fields)], ignore_index=True)\n",
    "bs.logout()\n",
    "result_dupont.to_csv(\"./data/stock_dupont.csv\", encoding=\"gbk\", index=False)"
   ]
  },
  {
   "cell_type": "markdown",
   "metadata": {},
   "source": [
    "### 05 获取公司现金流数据"
   ]
  },
  {
   "cell_type": "code",
   "execution_count": null,
   "metadata": {},
   "outputs": [],
   "source": [
    "lg = bs.login()\n",
    "print('login respond error_code:'+lg.error_code)\n",
    "print('login respond  error_msg:'+lg.error_msg)\n",
    "\n",
    "# 季频现金流量\n",
    "result_cash_flow = pd.DataFrame()\n",
    "for i in tqdm(range(len(result))):\n",
    "    cash_flow_list = []\n",
    "    rs_cash_flow = bs.query_cash_flow_data(code=result['code'][i], year=2023, quarter=4)\n",
    "    while (rs_cash_flow.error_code == '0') & rs_cash_flow.next():\n",
    "        cash_flow_list.append(rs_cash_flow.get_row_data())\n",
    "    result_cash_flow = pd.concat([result_cash_flow, pd.DataFrame(cash_flow_list, columns=rs_cash_flow.fields)], ignore_index=True)        \n",
    "bs.logout()\n",
    "result_cash_flow.to_csv(\"./data/stock_cash_flow.csv\", encoding=\"gbk\", index=False)"
   ]
  },
  {
   "cell_type": "markdown",
   "metadata": {},
   "source": [
    "### 06 获取债偿能力"
   ]
  },
  {
   "cell_type": "code",
   "execution_count": null,
   "metadata": {},
   "outputs": [],
   "source": [
    "lg = bs.login()\n",
    "# 显示登陆返回信息\n",
    "print('login respond error_code:'+lg.error_code)\n",
    "print('login respond  error_msg:'+lg.error_msg)\n",
    "\n",
    "# 偿债能力\n",
    "result_balance = pd.DataFrame()\n",
    "for i in tqdm(range(len(result))):\n",
    "    balance_list = []\n",
    "    rs_balance = bs.query_balance_data(code=result['code'][i], year=2023, quarter=4)\n",
    "    while (rs_balance.error_code == '0') & rs_balance.next():\n",
    "        balance_list.append(rs_balance.get_row_data())\n",
    "    result_balance = pd.concat([result_balance, pd.DataFrame(balance_list, columns=rs_balance.fields)], ignore_index=True)    \n",
    "bs.logout()\n",
    "result_balance.to_csv(\"./data/stock_balance.csv\", encoding=\"gbk\", index=False)"
   ]
  },
  {
   "cell_type": "markdown",
   "metadata": {},
   "source": [
    "### 07 获取营运能力"
   ]
  },
  {
   "cell_type": "code",
   "execution_count": null,
   "metadata": {},
   "outputs": [],
   "source": [
    "lg = bs.login()\n",
    "print('login respond error_code:'+lg.error_code)\n",
    "print('login respond  error_msg:'+lg.error_msg)\n",
    "\n",
    "# 营运能力\n",
    "result_operation=pd.DataFrame()\n",
    "for i in tqdm(range(len(result))):\n",
    "    operation_list = []\n",
    "    rs_operation = bs.query_operation_data(code=result['code'][i], year=2023, quarter=4)\n",
    "    while (rs_operation.error_code == '0') & rs_operation.next():\n",
    "        operation_list.append(rs_operation.get_row_data())\n",
    "    result_operation=pd.concat([result_operation, pd.DataFrame(operation_list, columns=rs_operation.fields)], ignore_index=True)    \n",
    "bs.logout()\n",
    "result_operation.to_csv(\"./data/stock_operation.csv\", encoding=\"gbk\", index=False)\n"
   ]
  },
  {
   "cell_type": "markdown",
   "metadata": {},
   "source": [
    "### 08 获取股票在2024-01-01的开盘数据 "
   ]
  },
  {
   "cell_type": "code",
   "execution_count": 54,
   "metadata": {},
   "outputs": [
    {
     "name": "stdout",
     "output_type": "stream",
     "text": [
      "login success!\n",
      "login respond error_code:0\n",
      "login respond  error_msg:success\n"
     ]
    },
    {
     "name": "stderr",
     "output_type": "stream",
     "text": [
      "100%|██████████| 5348/5348 [07:21<00:00, 12.10it/s]"
     ]
    },
    {
     "name": "stdout",
     "output_type": "stream",
     "text": [
      "logout success!\n"
     ]
    },
    {
     "name": "stderr",
     "output_type": "stream",
     "text": [
      "\n"
     ]
    },
    {
     "data": {
      "text/plain": [
       "<baostock.data.resultset.ResultData at 0x17e226917e0>"
      ]
     },
     "execution_count": 54,
     "metadata": {},
     "output_type": "execute_result"
    }
   ],
   "source": [
    "lg = bs.login()\n",
    "print('login respond error_code:'+lg.error_code)\n",
    "print('login respond  error_msg:'+lg.error_msg)\n",
    "\n",
    "result_stock = pd.DataFrame()\n",
    "for i in tqdm(range(len(result))):\n",
    "    rs = bs.query_history_k_data_plus(result['code'][i],\n",
    "        \"date,code,open,high,low,close,preclose,volume,amount,adjustflag,turn,tradestatus,pctChg,isST\",\n",
    "        start_date='2024-01-01', end_date='2024-01-02',\n",
    "        frequency=\"d\", adjustflag=\"3\")\n",
    "\n",
    "    data_list = []\n",
    "    while (rs.error_code == '0') & rs.next():\n",
    "        # 获取一条记录，将记录合并在一起\n",
    "        data_list.append(rs.get_row_data())\n",
    "    result_stock =pd.concat([result_stock, pd.DataFrame(data_list, columns=rs.fields)], ignore_index=True)\n",
    "bs.logout()"
   ]
  },
  {
   "cell_type": "code",
   "execution_count": 56,
   "metadata": {},
   "outputs": [],
   "source": [
    "result_stock.to_csv(\"./data/stock_k_data(2024_01_02).csv\", encoding=\"gbk\", index=False)"
   ]
  },
  {
   "cell_type": "code",
   "execution_count": 8,
   "metadata": {},
   "outputs": [
    {
     "name": "stdout",
     "output_type": "stream",
     "text": [
      "login success!\n",
      "login respond error_code:0\n",
      "login respond  error_msg:success\n"
     ]
    },
    {
     "name": "stderr",
     "output_type": "stream",
     "text": [
      "100%|██████████| 5348/5348 [07:34<00:00, 11.76it/s]"
     ]
    },
    {
     "name": "stdout",
     "output_type": "stream",
     "text": [
      "logout success!\n"
     ]
    },
    {
     "name": "stderr",
     "output_type": "stream",
     "text": [
      "\n"
     ]
    },
    {
     "data": {
      "text/plain": [
       "<baostock.data.resultset.ResultData at 0x2d2c7518ca0>"
      ]
     },
     "execution_count": 8,
     "metadata": {},
     "output_type": "execute_result"
    }
   ],
   "source": [
    "lg = bs.login()\n",
    "print('login respond error_code:'+lg.error_code)\n",
    "print('login respond  error_msg:'+lg.error_msg)\n",
    "\n",
    "result_stock = pd.DataFrame()\n",
    "for i in tqdm(range(len(result))):\n",
    "    rs = bs.query_history_k_data_plus(result['code'][i],\n",
    "        \"date,code,open,high,low,close,preclose,volume,amount,adjustflag,turn,tradestatus,pctChg,isST\",\n",
    "        start_date='2023-09-01', end_date='2023-09-02',\n",
    "        frequency=\"d\", adjustflag=\"3\")\n",
    "\n",
    "    data_list = []\n",
    "    while (rs.error_code == '0') & rs.next():\n",
    "        # 获取一条记录，将记录合并在一起\n",
    "        data_list.append(rs.get_row_data())\n",
    "    result_stock =pd.concat([result_stock, pd.DataFrame(data_list, columns=rs.fields)], ignore_index=True)\n",
    "bs.logout()"
   ]
  },
  {
   "cell_type": "code",
   "execution_count": 10,
   "metadata": {},
   "outputs": [],
   "source": [
    "result_stock.to_csv(\"./data/stock_k_data(2023_09_01).csv\", encoding=\"gbk\", index=False)"
   ]
  },
  {
   "cell_type": "code",
   "execution_count": 16,
   "metadata": {},
   "outputs": [
    {
     "name": "stdout",
     "output_type": "stream",
     "text": [
      "login success!\n",
      "login respond error_code:0\n",
      "login respond  error_msg:success\n"
     ]
    },
    {
     "name": "stderr",
     "output_type": "stream",
     "text": [
      "100%|██████████| 5348/5348 [17:02<00:00,  5.23it/s]  "
     ]
    },
    {
     "name": "stdout",
     "output_type": "stream",
     "text": [
      "logout success!\n"
     ]
    },
    {
     "name": "stderr",
     "output_type": "stream",
     "text": [
      "\n"
     ]
    },
    {
     "data": {
      "text/plain": [
       "<baostock.data.resultset.ResultData at 0x1c1d7220f70>"
      ]
     },
     "execution_count": 16,
     "metadata": {},
     "output_type": "execute_result"
    }
   ],
   "source": [
    "lg = bs.login()\n",
    "print('login respond error_code:'+lg.error_code)\n",
    "print('login respond  error_msg:'+lg.error_msg)\n",
    "\n",
    "result_stock = pd.DataFrame()\n",
    "for i in tqdm(range(len(result))):\n",
    "    rs = bs.query_history_k_data_plus(result['code'][i],\n",
    "        \"date,code,open,high,low,close,preclose,volume,amount,adjustflag,turn,tradestatus,pctChg,isST\",\n",
    "        start_date='2024-04-01', end_date='2024-04-01',\n",
    "        frequency=\"d\", adjustflag=\"3\")\n",
    "\n",
    "    data_list = []\n",
    "    while (rs.error_code == '0') & rs.next():\n",
    "        # 获取一条记录，将记录合并在一起\n",
    "        data_list.append(rs.get_row_data())\n",
    "    result_stock =pd.concat([result_stock, pd.DataFrame(data_list, columns=rs.fields)], ignore_index=True)\n",
    "bs.logout()"
   ]
  },
  {
   "cell_type": "code",
   "execution_count": 21,
   "metadata": {},
   "outputs": [],
   "source": [
    "result_stock.to_csv(\"./data/stock_k_data(2024_04_01).csv\", encoding=\"gbk\", index=False)"
   ]
  },
  {
   "cell_type": "code",
   "execution_count": 20,
   "metadata": {},
   "outputs": [
    {
     "data": {
      "text/html": [
       "<div>\n",
       "<style scoped>\n",
       "    .dataframe tbody tr th:only-of-type {\n",
       "        vertical-align: middle;\n",
       "    }\n",
       "\n",
       "    .dataframe tbody tr th {\n",
       "        vertical-align: top;\n",
       "    }\n",
       "\n",
       "    .dataframe thead th {\n",
       "        text-align: right;\n",
       "    }\n",
       "</style>\n",
       "<table border=\"1\" class=\"dataframe\">\n",
       "  <thead>\n",
       "    <tr style=\"text-align: right;\">\n",
       "      <th></th>\n",
       "      <th>date</th>\n",
       "      <th>code</th>\n",
       "      <th>open</th>\n",
       "      <th>high</th>\n",
       "      <th>low</th>\n",
       "      <th>close</th>\n",
       "      <th>preclose</th>\n",
       "      <th>volume</th>\n",
       "      <th>amount</th>\n",
       "      <th>adjustflag</th>\n",
       "      <th>turn</th>\n",
       "      <th>tradestatus</th>\n",
       "      <th>pctChg</th>\n",
       "      <th>isST</th>\n",
       "    </tr>\n",
       "  </thead>\n",
       "  <tbody>\n",
       "    <tr>\n",
       "      <th>0</th>\n",
       "      <td>2024-04-01</td>\n",
       "      <td>sh.600000</td>\n",
       "      <td>7.1500</td>\n",
       "      <td>7.2400</td>\n",
       "      <td>7.1400</td>\n",
       "      <td>7.2300</td>\n",
       "      <td>7.1300</td>\n",
       "      <td>36028832</td>\n",
       "      <td>259657243.8400</td>\n",
       "      <td>3</td>\n",
       "      <td>0.122700</td>\n",
       "      <td>1</td>\n",
       "      <td>1.402500</td>\n",
       "      <td>0</td>\n",
       "    </tr>\n",
       "    <tr>\n",
       "      <th>1</th>\n",
       "      <td>2024-04-01</td>\n",
       "      <td>sh.600004</td>\n",
       "      <td>10.0900</td>\n",
       "      <td>10.3800</td>\n",
       "      <td>10.0800</td>\n",
       "      <td>10.3600</td>\n",
       "      <td>10.0800</td>\n",
       "      <td>19504458</td>\n",
       "      <td>200295979.5800</td>\n",
       "      <td>3</td>\n",
       "      <td>0.824100</td>\n",
       "      <td>1</td>\n",
       "      <td>2.777800</td>\n",
       "      <td>0</td>\n",
       "    </tr>\n",
       "    <tr>\n",
       "      <th>2</th>\n",
       "      <td>2024-04-01</td>\n",
       "      <td>sh.600006</td>\n",
       "      <td>7.9000</td>\n",
       "      <td>8.3500</td>\n",
       "      <td>7.9000</td>\n",
       "      <td>8.1900</td>\n",
       "      <td>7.8800</td>\n",
       "      <td>117876370</td>\n",
       "      <td>963029990.2000</td>\n",
       "      <td>3</td>\n",
       "      <td>5.893800</td>\n",
       "      <td>1</td>\n",
       "      <td>3.934000</td>\n",
       "      <td>0</td>\n",
       "    </tr>\n",
       "    <tr>\n",
       "      <th>3</th>\n",
       "      <td>2024-04-01</td>\n",
       "      <td>sh.600007</td>\n",
       "      <td>24.2900</td>\n",
       "      <td>25.6900</td>\n",
       "      <td>23.8500</td>\n",
       "      <td>25.0200</td>\n",
       "      <td>24.1900</td>\n",
       "      <td>12542067</td>\n",
       "      <td>311793852.0200</td>\n",
       "      <td>3</td>\n",
       "      <td>1.245100</td>\n",
       "      <td>1</td>\n",
       "      <td>3.431200</td>\n",
       "      <td>0</td>\n",
       "    </tr>\n",
       "    <tr>\n",
       "      <th>4</th>\n",
       "      <td>2024-04-01</td>\n",
       "      <td>sh.600008</td>\n",
       "      <td>2.7800</td>\n",
       "      <td>2.8100</td>\n",
       "      <td>2.7700</td>\n",
       "      <td>2.8100</td>\n",
       "      <td>2.7800</td>\n",
       "      <td>45173291</td>\n",
       "      <td>126261055.1900</td>\n",
       "      <td>3</td>\n",
       "      <td>0.615400</td>\n",
       "      <td>1</td>\n",
       "      <td>1.079100</td>\n",
       "      <td>0</td>\n",
       "    </tr>\n",
       "    <tr>\n",
       "      <th>...</th>\n",
       "      <td>...</td>\n",
       "      <td>...</td>\n",
       "      <td>...</td>\n",
       "      <td>...</td>\n",
       "      <td>...</td>\n",
       "      <td>...</td>\n",
       "      <td>...</td>\n",
       "      <td>...</td>\n",
       "      <td>...</td>\n",
       "      <td>...</td>\n",
       "      <td>...</td>\n",
       "      <td>...</td>\n",
       "      <td>...</td>\n",
       "      <td>...</td>\n",
       "    </tr>\n",
       "    <tr>\n",
       "      <th>5103</th>\n",
       "      <td>2024-04-01</td>\n",
       "      <td>sz.301577</td>\n",
       "      <td>56.1300</td>\n",
       "      <td>57.5800</td>\n",
       "      <td>55.5000</td>\n",
       "      <td>56.7200</td>\n",
       "      <td>56.1500</td>\n",
       "      <td>1684028</td>\n",
       "      <td>95309810.0700</td>\n",
       "      <td>3</td>\n",
       "      <td>15.178100</td>\n",
       "      <td>1</td>\n",
       "      <td>1.015100</td>\n",
       "      <td>0</td>\n",
       "    </tr>\n",
       "    <tr>\n",
       "      <th>5104</th>\n",
       "      <td>2024-04-01</td>\n",
       "      <td>sz.301578</td>\n",
       "      <td>52.7400</td>\n",
       "      <td>53.4000</td>\n",
       "      <td>52.4900</td>\n",
       "      <td>53.2200</td>\n",
       "      <td>52.8500</td>\n",
       "      <td>1248826</td>\n",
       "      <td>66222735.1200</td>\n",
       "      <td>3</td>\n",
       "      <td>10.975000</td>\n",
       "      <td>1</td>\n",
       "      <td>0.700100</td>\n",
       "      <td>0</td>\n",
       "    </tr>\n",
       "    <tr>\n",
       "      <th>5105</th>\n",
       "      <td>2024-04-01</td>\n",
       "      <td>sz.301588</td>\n",
       "      <td>27.7400</td>\n",
       "      <td>28.3000</td>\n",
       "      <td>27.7200</td>\n",
       "      <td>28.1900</td>\n",
       "      <td>27.6900</td>\n",
       "      <td>4145186</td>\n",
       "      <td>116166024.3700</td>\n",
       "      <td>3</td>\n",
       "      <td>18.355700</td>\n",
       "      <td>1</td>\n",
       "      <td>1.805700</td>\n",
       "      <td>0</td>\n",
       "    </tr>\n",
       "    <tr>\n",
       "      <th>5106</th>\n",
       "      <td>2024-04-01</td>\n",
       "      <td>sz.301589</td>\n",
       "      <td>449.3300</td>\n",
       "      <td>464.2000</td>\n",
       "      <td>443.5800</td>\n",
       "      <td>462.0000</td>\n",
       "      <td>451.5600</td>\n",
       "      <td>458717</td>\n",
       "      <td>209305311.5100</td>\n",
       "      <td>3</td>\n",
       "      <td>5.955700</td>\n",
       "      <td>1</td>\n",
       "      <td>2.312000</td>\n",
       "      <td>0</td>\n",
       "    </tr>\n",
       "    <tr>\n",
       "      <th>5107</th>\n",
       "      <td>2024-04-01</td>\n",
       "      <td>sz.301591</td>\n",
       "      <td>46.0300</td>\n",
       "      <td>46.4600</td>\n",
       "      <td>45.4600</td>\n",
       "      <td>46.4000</td>\n",
       "      <td>45.4500</td>\n",
       "      <td>2268868</td>\n",
       "      <td>104596857.0200</td>\n",
       "      <td>3</td>\n",
       "      <td>11.376400</td>\n",
       "      <td>1</td>\n",
       "      <td>2.090200</td>\n",
       "      <td>0</td>\n",
       "    </tr>\n",
       "  </tbody>\n",
       "</table>\n",
       "<p>5108 rows × 14 columns</p>\n",
       "</div>"
      ],
      "text/plain": [
       "            date       code      open      high       low     close  preclose  \\\n",
       "0     2024-04-01  sh.600000    7.1500    7.2400    7.1400    7.2300    7.1300   \n",
       "1     2024-04-01  sh.600004   10.0900   10.3800   10.0800   10.3600   10.0800   \n",
       "2     2024-04-01  sh.600006    7.9000    8.3500    7.9000    8.1900    7.8800   \n",
       "3     2024-04-01  sh.600007   24.2900   25.6900   23.8500   25.0200   24.1900   \n",
       "4     2024-04-01  sh.600008    2.7800    2.8100    2.7700    2.8100    2.7800   \n",
       "...          ...        ...       ...       ...       ...       ...       ...   \n",
       "5103  2024-04-01  sz.301577   56.1300   57.5800   55.5000   56.7200   56.1500   \n",
       "5104  2024-04-01  sz.301578   52.7400   53.4000   52.4900   53.2200   52.8500   \n",
       "5105  2024-04-01  sz.301588   27.7400   28.3000   27.7200   28.1900   27.6900   \n",
       "5106  2024-04-01  sz.301589  449.3300  464.2000  443.5800  462.0000  451.5600   \n",
       "5107  2024-04-01  sz.301591   46.0300   46.4600   45.4600   46.4000   45.4500   \n",
       "\n",
       "         volume          amount adjustflag       turn tradestatus    pctChg  \\\n",
       "0      36028832  259657243.8400          3   0.122700           1  1.402500   \n",
       "1      19504458  200295979.5800          3   0.824100           1  2.777800   \n",
       "2     117876370  963029990.2000          3   5.893800           1  3.934000   \n",
       "3      12542067  311793852.0200          3   1.245100           1  3.431200   \n",
       "4      45173291  126261055.1900          3   0.615400           1  1.079100   \n",
       "...         ...             ...        ...        ...         ...       ...   \n",
       "5103    1684028   95309810.0700          3  15.178100           1  1.015100   \n",
       "5104    1248826   66222735.1200          3  10.975000           1  0.700100   \n",
       "5105    4145186  116166024.3700          3  18.355700           1  1.805700   \n",
       "5106     458717  209305311.5100          3   5.955700           1  2.312000   \n",
       "5107    2268868  104596857.0200          3  11.376400           1  2.090200   \n",
       "\n",
       "     isST  \n",
       "0       0  \n",
       "1       0  \n",
       "2       0  \n",
       "3       0  \n",
       "4       0  \n",
       "...   ...  \n",
       "5103    0  \n",
       "5104    0  \n",
       "5105    0  \n",
       "5106    0  \n",
       "5107    0  \n",
       "\n",
       "[5108 rows x 14 columns]"
      ]
     },
     "execution_count": 20,
     "metadata": {},
     "output_type": "execute_result"
    }
   ],
   "source": [
    "result_stock"
   ]
  },
  {
   "cell_type": "code",
   "execution_count": null,
   "metadata": {},
   "outputs": [],
   "source": []
  }
 ],
 "metadata": {
  "kernelspec": {
   "display_name": "base",
   "language": "python",
   "name": "python3"
  },
  "language_info": {
   "codemirror_mode": {
    "name": "ipython",
    "version": 3
   },
   "file_extension": ".py",
   "mimetype": "text/x-python",
   "name": "python",
   "nbconvert_exporter": "python",
   "pygments_lexer": "ipython3",
   "version": "3.10.9"
  }
 },
 "nbformat": 4,
 "nbformat_minor": 2
}
